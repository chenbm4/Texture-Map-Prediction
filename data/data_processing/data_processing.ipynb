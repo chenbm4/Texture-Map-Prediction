{
 "cells": [
  {
   "cell_type": "markdown",
   "metadata": {},
   "source": [
    "Copy target files from fitted_meshes folder to texture_maps folder"
   ]
  },
  {
   "cell_type": "markdown",
   "metadata": {},
   "source": [
    "Small"
   ]
  },
  {
   "cell_type": "code",
   "execution_count": 2,
   "metadata": {},
   "outputs": [],
   "source": [
    "# copy test input files from raw data folders to processed data folders\n",
    "import os\n",
    "import shutil\n",
    "\n",
    "source_folder = \"../raw/small_test\"\n",
    "destination_folder = \"../processed/small/x\"\n",
    "\n",
    "file_list = os.listdir(source_folder)\n",
    "\n",
    "for file_name in file_list:\n",
    "    if (not file_name.endswith(\"_ply.jpg\")) and file_name.endswith(\".jpg\"):\n",
    "        source_file = os.path.join(source_folder, file_name)\n",
    "        destination_file = os.path.join(destination_folder, file_name)\n",
    "        shutil.copy(source_file, destination_file)"
   ]
  },
  {
   "cell_type": "code",
   "execution_count": 3,
   "metadata": {},
   "outputs": [],
   "source": [
    "# copy test label files from raw data folders to processed data folders\n",
    "import os\n",
    "import shutil\n",
    "\n",
    "source_folder = \"../raw/small_test\"\n",
    "destination_folder = \"../processed/small/y\"\n",
    "\n",
    "file_list = os.listdir(source_folder)\n",
    "\n",
    "for file_name in file_list:\n",
    "    if file_name.endswith(\"_ply.jpg\"):\n",
    "        new_file_name = file_name.replace(\"_ply\", \"\")\n",
    "        source_file = os.path.join(source_folder, file_name)\n",
    "        destination_file = os.path.join(destination_folder, new_file_name)\n",
    "        shutil.copy(source_file, destination_file)\n"
   ]
  },
  {
   "cell_type": "markdown",
   "metadata": {},
   "source": [
    "Full"
   ]
  },
  {
   "cell_type": "code",
   "execution_count": 1,
   "metadata": {},
   "outputs": [],
   "source": [
    "# copy test input files from raw data folders to processed data folders\n",
    "import os\n",
    "import shutil\n",
    "\n",
    "source_folder = \"../raw/full/firebase_texmeshes-10000x100\"\n",
    "destination_folder = \"../processed/full/test/x\"\n",
    "\n",
    "file_list = os.listdir(source_folder)\n",
    "\n",
    "for file_name in file_list:\n",
    "    if (not file_name.endswith(\"_ply.jpg\")) and file_name.endswith(\".jpg\"):\n",
    "        source_file = os.path.join(source_folder, file_name)\n",
    "        destination_file = os.path.join(destination_folder, file_name)\n",
    "        shutil.copy(source_file, destination_file)"
   ]
  },
  {
   "cell_type": "code",
   "execution_count": 2,
   "metadata": {},
   "outputs": [],
   "source": [
    "# copy test label files from raw data folders to processed data folders\n",
    "import os\n",
    "import shutil\n",
    "\n",
    "source_folder = \"../raw/full/firebase_texmeshes-10000x100\"\n",
    "destination_folder = \"../processed/full/test/y\"\n",
    "\n",
    "file_list = os.listdir(source_folder)\n",
    "\n",
    "for file_name in file_list:\n",
    "    if file_name.endswith(\"_ply.jpg\"):\n",
    "        new_file_name = file_name.replace(\"_ply\", \"\")\n",
    "        source_file = os.path.join(source_folder, file_name)\n",
    "        destination_file = os.path.join(destination_folder, new_file_name)\n",
    "        shutil.copy(source_file, destination_file)\n"
   ]
  },
  {
   "cell_type": "code",
   "execution_count": 3,
   "metadata": {},
   "outputs": [],
   "source": [
    "# copy test input files from raw data folders to processed data folders\n",
    "import os\n",
    "import shutil\n",
    "\n",
    "source_folder = \"../raw/full/firebase_texmeshes-0x3000\"\n",
    "destination_folder = \"../processed/full/train/x\"\n",
    "\n",
    "file_list = os.listdir(source_folder)\n",
    "\n",
    "for file_name in file_list:\n",
    "    if (not file_name.endswith(\"_ply.jpg\")) and file_name.endswith(\".jpg\"):\n",
    "        source_file = os.path.join(source_folder, file_name)\n",
    "        destination_file = os.path.join(destination_folder, file_name)\n",
    "        shutil.copy(source_file, destination_file)"
   ]
  },
  {
   "cell_type": "code",
   "execution_count": 4,
   "metadata": {},
   "outputs": [],
   "source": [
    "# copy test label files from raw data folders to processed data folders\n",
    "import os\n",
    "import shutil\n",
    "\n",
    "source_folder = \"../raw/full/firebase_texmeshes-0x3000\"\n",
    "destination_folder = \"../processed/full/train/y\"\n",
    "\n",
    "file_list = os.listdir(source_folder)\n",
    "\n",
    "for file_name in file_list:\n",
    "    if file_name.endswith(\"_ply.jpg\"):\n",
    "        new_file_name = file_name.replace(\"_ply\", \"\")\n",
    "        source_file = os.path.join(source_folder, file_name)\n",
    "        destination_file = os.path.join(destination_folder, new_file_name)\n",
    "        shutil.copy(source_file, destination_file)\n"
   ]
  },
  {
   "cell_type": "markdown",
   "metadata": {},
   "source": [
    "Data Augmentation and Pre-Processing (TODO)"
   ]
  },
  {
   "cell_type": "code",
   "execution_count": null,
   "metadata": {},
   "outputs": [],
   "source": [
    "# TODO: data augmentation and preprocessing"
   ]
  }
 ],
 "metadata": {
  "kernelspec": {
   "display_name": "venv",
   "language": "python",
   "name": "python3"
  },
  "language_info": {
   "codemirror_mode": {
    "name": "ipython",
    "version": 3
   },
   "file_extension": ".py",
   "mimetype": "text/x-python",
   "name": "python",
   "nbconvert_exporter": "python",
   "pygments_lexer": "ipython3",
   "version": "3.9.19"
  }
 },
 "nbformat": 4,
 "nbformat_minor": 2
}
